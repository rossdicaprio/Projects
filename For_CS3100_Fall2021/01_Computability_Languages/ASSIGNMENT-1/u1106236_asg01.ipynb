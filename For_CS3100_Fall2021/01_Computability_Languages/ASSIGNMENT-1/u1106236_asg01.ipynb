{
  "nbformat": 4,
  "nbformat_minor": 0,
  "metadata": {
    "colab": {
      "name": "u0000000_asg01.ipynb",
      "provenance": [],
      "collapsed_sections": []
    },
    "kernelspec": {
      "display_name": "Python 3",
      "language": "python",
      "name": "python3"
    },
    "language_info": {
      "codemirror_mode": {
        "name": "ipython",
        "version": 3
      },
      "file_extension": ".py",
      "mimetype": "text/x-python",
      "name": "python",
      "nbconvert_exporter": "python",
      "pygments_lexer": "ipython3",
      "version": "3.7.3"
    }
  },
  "cells": [
    {
      "cell_type": "markdown",
      "metadata": {
        "id": "gOJcNwa-9t-M"
      },
      "source": [
        "### BEFORE YOU SUBMIT THIS FILE, PLEASE RENAME THIS FILE BY REPLACING THE 0000000 IN THE FILE NAME WITH YOUR CORRECT UNID. KEEP THE \"u\" AT THE BEGINNING."
      ]
    },
    {
      "cell_type": "code",
      "metadata": {
        "id": "4F8Z5eEX98j1"
      },
      "source": [
        "#~~~~~~~~~~~~~~~~~~~~~~~~~~~~~~~~~~~~~~~~~~~~~~~~~~~~~~~\n",
        "import sys\n",
        "\n",
        "# -- Detect if in Own Install or in Colab\n",
        "try:\n",
        "    import google.colab\n",
        "    OWN_INSTALL = False\n",
        "except:\n",
        "    OWN_INSTALL = True\n",
        "    \n",
        "if OWN_INSTALL:\n",
        "    \n",
        "  #---- Leave these definitions ON if running on laptop\n",
        "  #---- Else turn OFF by putting them between ''' ... '''\n",
        "\n",
        "  sys.path[0:0] = ['../../../../..',  '../../../../../3rdparty',  \n",
        "                   '../../../..',  '../../../../3rdparty',  \n",
        "                   '../../..',     '../../../3rdparty', \n",
        "                   '../..',        '../../3rdparty',\n",
        "                   '..',           '../3rdparty' ]\n",
        "\n",
        "else: # In colab\n",
        "  ! if [ ! -d Jove ]; then git clone https://github.com/ganeshutah/Jove Jove; fi\n",
        "  sys.path.append('./Jove')\n",
        "  sys.path.append('./Jove/jove')\n",
        "\n",
        "# -- common imports --\n",
        "from jove.LangDef   import *\n",
        "#~~~~~~~~~~~~~~~~~~~~~~~~~~~~~~~~~~~~~~~~~~~~~~~~~~~~~~~"
      ],
      "execution_count": null,
      "outputs": []
    },
    {
      "cell_type": "markdown",
      "metadata": {
        "id": "UqyylUAu-NHk"
      },
      "source": [
        "# Question 1"
      ]
    },
    {
      "cell_type": "markdown",
      "metadata": {
        "id": "9AMcC5Fu-QZE"
      },
      "source": [
        "##Part a: Define the universe $\\Sigma_4^*$ for the $\\Sigma$ given below using a function defined in Jove. (Page 28-29 Textbook)"
      ]
    },
    {
      "cell_type": "code",
      "metadata": {
        "id": "gg7liBdM_LYu"
      },
      "source": [
        "Sigma = {'a', 'b', 'c'}\n",
        "\n",
        "Sigma_4_Star = \"Define Sigma_4_Star here\""
      ],
      "execution_count": null,
      "outputs": []
    },
    {
      "cell_type": "markdown",
      "metadata": {
        "id": "5ouTH_z4_fz0"
      },
      "source": [
        "## Part b: Given two sets:\n",
        "\n",
        "* $A = \\{a, \\varepsilon , bc\\}$\n",
        "\n",
        "* $B = \\{a, \\varepsilon, bba, ca\\}$\n",
        "\n",
        "## Illustrate DeMorgan's law with respect to these specific instructions:\n",
        "\n",
        "* Let LHS = $\\overline{(A\\cup B)}$ and RHS = $\\overline{A} \\cap \\overline{B}$. By using Jove's functions, show that $\\overline{(A\\cup B)} = \\overline{A} \\cap \\overline{B}$."
      ]
    },
    {
      "cell_type": "code",
      "metadata": {
        "id": "wFsWz-8VEGme"
      },
      "source": [
        "#The Jove functions you need:\n",
        "help(lcomplem)\n",
        "help(lunion)\n",
        "help(lint)"
      ],
      "execution_count": null,
      "outputs": []
    },
    {
      "cell_type": "code",
      "metadata": {
        "id": "B0UawXyGEl62"
      },
      "source": [
        "A = {'a', '' , 'bc'}\n",
        "\n",
        "B = {'a', '', 'bba', 'c'}\n",
        "\n",
        "LHS = \"..DEFINE THE LHS..\"\n",
        "\n",
        "RHS = \"..DEFINE THE RHS..\""
      ],
      "execution_count": null,
      "outputs": []
    },
    {
      "cell_type": "code",
      "metadata": {
        "id": "RQqPynA6FFLl"
      },
      "source": [
        "# Now, perform LHS == RHS in Python and check if it is true\n",
        "\n",
        "LHS == RHS"
      ],
      "execution_count": null,
      "outputs": []
    },
    {
      "cell_type": "markdown",
      "metadata": {
        "id": "9VwisEcEFIuE"
      },
      "source": [
        "# Question 2\n"
      ]
    },
    {
      "cell_type": "markdown",
      "metadata": {
        "id": "lNgnnBNKF8oM"
      },
      "source": [
        "**Theorem:**\n",
        "The concatenation of any two languages $L_1$ and $L_2$ has smaller size than their cartesian product if and only if the intersection of those two languages has at least 2 elements and contains $\\varepsilon$.\n"
      ]
    },
    {
      "cell_type": "markdown",
      "metadata": {
        "id": "fFOhZ-kSOMh8"
      },
      "source": [
        "## Part a: Define two languages L1 and L2. L1 and L2 must both contain  ε. Then, run Code Cell 01 and get the result: \"cat and product have the same size\"."
      ]
    },
    {
      "cell_type": "code",
      "metadata": {
        "id": "VdBv80INOgz9"
      },
      "source": [
        "#Define L1 and L2 here\n",
        "L1 = ...\n",
        "L2 = ..."
      ],
      "execution_count": null,
      "outputs": []
    },
    {
      "cell_type": "code",
      "metadata": {
        "id": "l6kOK6kcPhHd"
      },
      "source": [
        "#Code Cell 01\n",
        "catL1L2 = lcat(L1,L2)\n",
        "lencatL1L2 = len(catL1L2)\n",
        "print(\"Cat of L1 and L2 is\", catL1L2, \" of size \", lencatL1L2)\n",
        "\n",
        "\n",
        "# Perform L1 and L2 intersection\n",
        "intL1L2 = lint(L1,L2)\n",
        "lenintL1L2 = len(intL1L2)\n",
        "print(\"Intersection of L1 and L2 is\", intL1L2, \" of size \", lenintL1L2)\n",
        "\n",
        "# Define the product of L1 and L2\n",
        "prodL1L2 = { (x,y) for x in L1 for y in L2 }\n",
        "lenprodL1L2 = len(prodL1L2)\n",
        "print(\"Product of L1 and L2 is\", prodL1L2, \" of size \", lenprodL1L2)\n",
        "\n",
        "if (lenprodL1L2 != lencatL1L2):\n",
        "    print(\" cat and product differ in size \")\n",
        "else:\n",
        "    print(\" cat and product have the same size \")"
      ],
      "execution_count": null,
      "outputs": []
    },
    {
      "cell_type": "markdown",
      "metadata": {
        "id": "LFA6OH1dQW88"
      },
      "source": [
        "## Part b: Re-define L1 and L2. L1 and L2 must both contain  ε. Then, run Code Cell 02 so that the result = \"cat and product differ in size\"."
      ]
    },
    {
      "cell_type": "code",
      "metadata": {
        "id": "JE69DJsyQoMz"
      },
      "source": [
        "#Re-define L1 and L2 here\n",
        "L1 = ...\n",
        "L2 = ..."
      ],
      "execution_count": null,
      "outputs": []
    },
    {
      "cell_type": "code",
      "metadata": {
        "id": "pr9-1zsqQrIU"
      },
      "source": [
        "#Code Cell 02\n",
        "catL1L2 = lcat(L1,L2)\n",
        "lencatL1L2 = len(catL1L2)\n",
        "print(\"Cat of L1 and L2 is\", catL1L2, \" of size \", lencatL1L2)\n",
        "\n",
        "\n",
        "# Perform L1 and L2 intersection\n",
        "intL1L2 = lint(L1,L2)\n",
        "lenintL1L2 = len(intL1L2)\n",
        "print(\"Intersection of L1 and L2 is\", intL1L2, \" of size \", lenintL1L2)\n",
        "\n",
        "# Define the product of L1 and L2\n",
        "prodL1L2 = { (x,y) for x in L1 for y in L2 }\n",
        "lenprodL1L2 = len(prodL1L2)\n",
        "print(\"Product of L1 and L2 is\", prodL1L2, \" of size \", lenprodL1L2)\n",
        "\n",
        "if (lenprodL1L2 != lencatL1L2):\n",
        "    print(\" cat and product differ in size \")\n",
        "else:\n",
        "    print(\" cat and product have the same size \")"
      ],
      "execution_count": null,
      "outputs": []
    },
    {
      "cell_type": "markdown",
      "metadata": {
        "id": "0q4IxOI8R-Vs"
      },
      "source": [
        "# Question 3"
      ]
    },
    {
      "cell_type": "markdown",
      "metadata": {
        "id": "LYcZql5HU17V"
      },
      "source": [
        "## Consider this statement:  \n",
        "For any two languages $L_1$ and $L_2$, their intersection **can never have the same size as**  their concatenation if both languages are finite. \n",
        "\n",
        "__(This is an error-corrected question. See Piazza note @44 for details.)__"
      ]
    },
    {
      "cell_type": "markdown",
      "metadata": {
        "id": "XC4TifENW2h0"
      },
      "source": [
        "## Now, define two languages where this claim is false."
      ]
    },
    {
      "cell_type": "code",
      "metadata": {
        "id": "zOnqyAzzZJNe"
      },
      "source": [
        "# Define two FINITE languages\n",
        "L1 = ...\n",
        "L2 = ...\n",
        "\n",
        "# Perform their intersection\n",
        "intL1L2 = lint(L1,L2)\n",
        "\n",
        "# Perform their concatenation\n",
        "catL1L2 = lcat(L1,L2)\n",
        "\n",
        "# Compare the intersection and the concatenation\n",
        "print(\"intersection = \", intL1L2)\n",
        "print(\"concatenation = \", catL1L2)"
      ],
      "execution_count": null,
      "outputs": []
    },
    {
      "cell_type": "markdown",
      "metadata": {
        "id": "eTYZQbh8fy8d"
      },
      "source": [
        "# Question 4"
      ]
    },
    {
      "cell_type": "markdown",
      "metadata": {
        "id": "RPVfMhEampQ_"
      },
      "source": [
        "## Define a regular language using Python's set builder (set comprehension) syntax\n",
        "<font size=\"4\"> \n",
        "    \n",
        "Recall from Chapter-1 that sets of strings of the form \"any number of $a$'s followed by any number of $b$'s followed by any number of $c$'s are regular languages.\n",
        "\n",
        "* Here, for instance, is a regular language\n",
        "    \n",
        "    $$ \\{ a^i b^j c^k \\;:\\; i,j,k \\ge 0 \\}$$\n",
        "  \n",
        "\n",
        "**Task for you**:\n",
        "\n",
        "* Define this set in Python: $$ \\{ a^i b^j c^k \\;:\\; 0 \\le i,j,k \\le 4 \\}$$\n",
        "\n",
        "**IMPORTANT NOTE**: ALL finite sets are regular. Thus by truncating the set to a finite size, we always get a regular language. The purpose of truncation is ONLY to make sure that the printing stops. What we are really referring to as a regular language of interest is the mathematical language\n",
        "\n",
        "\n",
        "    \n",
        "    \n",
        "</font>  "
      ]
    },
    {
      "cell_type": "code",
      "metadata": {
        "id": "V96-pVokn7lN"
      },
      "source": [
        "# The above regular language truncated to a small size, below\n",
        "A_reg_language = { ... set comprehension here ... }\n",
        "\n",
        "# Print its contents\n",
        "A_reg_language"
      ],
      "execution_count": null,
      "outputs": []
    },
    {
      "cell_type": "markdown",
      "metadata": {
        "id": "vyf0eAkgqJFc"
      },
      "source": [
        "## Define a context-free language using Python's set builder (set comprehension) syntax\n",
        "\n",
        "<font size=\"4\"> \n",
        "    \n",
        "Recall from Chapter-1 that sets of strings of the form \"any number of $a$'s followed by the same number of $b$'s and $c$'s is context-free.\n",
        "    \n",
        "* Here, for instance, is a context-free language\n",
        "    \n",
        "    $$ \\{ a^i b^j c^j \\;:\\; i,j \\ge 0 \\}$$\n",
        "     \n",
        "\n",
        "**Task for you**:\n",
        "\n",
        "* Define the above set in Python, again limiting $i,j,k$ to be in $\\{0, \\ldots, 4\\}$.\n",
        "\n",
        "**IMPORTANT NOTE**: ALL finite sets are regular. Thus by truncating the set to a finite size, we always get a regular language. The purpose of truncation is ONLY to make sure that the printing stops. What we are really referring to as a **context-free language** of interest is the mathematical language\n",
        "\n",
        "   $$ \\{ a^i b^j c^j \\;:\\; i,j \\ge 0 \\}$$\n",
        "    \n",
        "    \n",
        "</font>  "
      ]
    },
    {
      "cell_type": "code",
      "metadata": {
        "id": "SKBecDclqMz6"
      },
      "source": [
        "# Your Python definition of a context-free language, below\n",
        "A_context_free_language = { ... set comprehension ... }\n",
        "\n",
        "# Print its contents\n",
        "A_context_free_language "
      ],
      "execution_count": null,
      "outputs": []
    },
    {
      "cell_type": "markdown",
      "metadata": {
        "id": "hQd6gsQNqWE0"
      },
      "source": [
        "## Define another context-free language  \n",
        "\n",
        "<font size=\"4\"> \n",
        "    \n",
        "In Chapter 4, we will study the Pumping Lemma to argue that this language is not context-free:\n",
        "    $$L_{if} = \\{ a^i b^j c^k  {\\rm if}\\ ( i = 2 )\\ {\\rm then}\\ (j=k) \\}$$\n",
        "    \n",
        "\n",
        "\n",
        "**Task for you**:\n",
        "\n",
        "* Define $L_{if}$ in Python. Limit $i,j,k$ to be in $\\{0, \\ldots, 4\\}$.\n",
        "* List all the strings where the condition $(i=2)$ is met. How many such strings are there?\n",
        "    \n",
        "**IMPORTANT NOTE**: ALL finite sets are regular. Thus by truncating the set to a finite size, we always get a regular language. The purpose of truncation is ONLY to make sure that the printing stops. What we are really referring to as a **context-free language** of interest is the mathematical language\n",
        "\n",
        "   \n",
        "  $$L_{if} = \\{ a^i b^j c^k \\;:\\; {\\rm if}\\; (i=2)\\; {\\rm then}\\; (j=k) \\}$$\n",
        "    \n",
        "    \n",
        "</font>  "
      ]
    },
    {
      "cell_type": "code",
      "metadata": {
        "id": "-rjjdrsLqYb8"
      },
      "source": [
        " \n",
        "# Your Python definition of the language Lif below\n",
        "Lif =  { .....python set-builder ..... }\n",
        "\n",
        "# print Lif\n",
        "\n",
        "Lif"
      ],
      "execution_count": null,
      "outputs": []
    },
    {
      "cell_type": "markdown",
      "metadata": {
        "id": "IiPeeqXhqaoc"
      },
      "source": [
        "## Number of strings where i = 2, and which are they?\n",
        "\n",
        "- Answer: \n",
        "\n",
        "## The strings where i = 2 is met are these:\n",
        "- Answer: \n",
        "\n",
        " "
      ]
    }
  ]
}